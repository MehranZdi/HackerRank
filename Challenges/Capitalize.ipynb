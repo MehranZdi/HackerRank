{
 "cells": [
  {
   "cell_type": "markdown",
   "id": "1e8b9bff",
   "metadata": {},
   "source": [
    "## This is my solution for  [Capitalize!](https://www.hackerrank.com/challenges/capitalize/problem) challenge on [HackerRank](https://www.hackerrank.com/)."
   ]
  },
  {
   "cell_type": "code",
   "execution_count": 1,
   "id": "840f3fbc",
   "metadata": {},
   "outputs": [],
   "source": [
    "def solve(s):\n",
    "    \n",
    "    temp_string = ''\n",
    "    l = s.split(' ')\n",
    "    for letter in l:\n",
    "        temp_string = temp_string + ' ' + letter.capitalize()\n",
    "    return temp_string[1:]"
   ]
  },
  {
   "cell_type": "code",
   "execution_count": 3,
   "id": "d160aea4",
   "metadata": {},
   "outputs": [
    {
     "name": "stdout",
     "output_type": "stream",
     "text": [
      "chandler bing\n",
      "-----> Chandler Bing\n"
     ]
    }
   ],
   "source": [
    "if __name__ == '__main__':\n",
    "    \n",
    "    s = input()\n",
    "    print('----->', solve(s))"
   ]
  }
 ],
 "metadata": {
  "kernelspec": {
   "display_name": "Python 3 (ipykernel)",
   "language": "python",
   "name": "python3"
  },
  "language_info": {
   "codemirror_mode": {
    "name": "ipython",
    "version": 3
   },
   "file_extension": ".py",
   "mimetype": "text/x-python",
   "name": "python",
   "nbconvert_exporter": "python",
   "pygments_lexer": "ipython3",
   "version": "3.9.7"
  }
 },
 "nbformat": 4,
 "nbformat_minor": 5
}
