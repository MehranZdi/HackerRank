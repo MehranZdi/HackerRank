{
 "cells": [
  {
   "cell_type": "markdown",
   "id": "a2856051",
   "metadata": {},
   "source": [
    "## This is my solution for  [Exceptions](https://www.hackerrank.com/challenges/exceptions/problem) challenge on [HackerRank](https://www.hackerrank.com/)."
   ]
  },
  {
   "cell_type": "code",
   "execution_count": 1,
   "id": "fe254736",
   "metadata": {},
   "outputs": [],
   "source": [
    "def division(numbers):\n",
    "    \n",
    "    for i in range(len(numbers)):    \n",
    "        try:\n",
    "            print(int(int(numbers[i][0]) / int(numbers[i][1])))\n",
    "        \n",
    "        except ZeroDivisionError:\n",
    "            print('Error Code: integer division or modulo by zero')\n",
    "        \n",
    "        except ValueError as ve:\n",
    "            print('Error Code:', ve)"
   ]
  },
  {
   "cell_type": "code",
   "execution_count": 2,
   "id": "c881fe0c",
   "metadata": {},
   "outputs": [
    {
     "name": "stdout",
     "output_type": "stream",
     "text": [
      "3\n",
      "5 2\n",
      "2 0\n",
      "5 *\n",
      "2\n",
      "Error Code: integer division or modulo by zero\n",
      "Error Code: invalid literal for int() with base 10: '*'\n"
     ]
    }
   ],
   "source": [
    "if __name__ == '__main__':\n",
    "    numbers = list(input().split() for i in range(int(input())))\n",
    "    division(numbers)"
   ]
  },
  {
   "cell_type": "code",
   "execution_count": null,
   "id": "c50847c4",
   "metadata": {},
   "outputs": [],
   "source": []
  }
 ],
 "metadata": {
  "kernelspec": {
   "display_name": "Python 3 (ipykernel)",
   "language": "python",
   "name": "python3"
  },
  "language_info": {
   "codemirror_mode": {
    "name": "ipython",
    "version": 3
   },
   "file_extension": ".py",
   "mimetype": "text/x-python",
   "name": "python",
   "nbconvert_exporter": "python",
   "pygments_lexer": "ipython3",
   "version": "3.9.6"
  }
 },
 "nbformat": 4,
 "nbformat_minor": 5
}
