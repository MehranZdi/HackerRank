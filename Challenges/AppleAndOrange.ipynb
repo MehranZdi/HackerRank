{
 "cells": [
  {
   "cell_type": "markdown",
   "id": "4c3b43eb",
   "metadata": {},
   "source": [
    "## This is my solution for [Apple and Orange](https://www.hackerrank.com/challenges/apple-and-orange/problem) challenge on [Hackerrank](https://www.hackerrank.com/)."
   ]
  },
  {
   "cell_type": "code",
   "execution_count": 1,
   "id": "7f860ab5",
   "metadata": {},
   "outputs": [],
   "source": [
    "def countApplesAndOranges(s, t, a, b, apples, oranges):\n",
    "    apples_loc = [apple + a for apple in apples]\n",
    "    oranges_loc = [orange + b for orange in oranges]\n",
    "    \n",
    "    apple_possession = 0\n",
    "    orange_possession = 0\n",
    "\n",
    "    for item in apples_loc:\n",
    "        if s <= item <= t:\n",
    "            apple_possession += 1\n",
    "\n",
    "    for item in oranges_loc:\n",
    "        if s <= item <= t:\n",
    "            orange_possession += 1\n",
    "\n",
    "    print(apple_possession)\n",
    "    print(orange_possession)"
   ]
  },
  {
   "cell_type": "code",
   "execution_count": 2,
   "id": "55f5191c",
   "metadata": {},
   "outputs": [
    {
     "name": "stdout",
     "output_type": "stream",
     "text": [
      "7 11\n",
      "5 15\n",
      "3 2\n",
      "-2 2 1\n",
      "5 -6\n",
      "1\n",
      "1\n"
     ]
    }
   ],
   "source": [
    "if __name__ == '__main__':\n",
    "    first_multiple_input = list(map(int, input().split()))\n",
    "\n",
    "    s, t = first_multiple_input[0], first_multiple_input[1]\n",
    "\n",
    "    second_multiple_input = list(map(int, input().split()))\n",
    "\n",
    "    a, b = second_multiple_input[0], second_multiple_input[1]\n",
    "\n",
    "    third_multiple_input = list(map(int, input().split()))\n",
    "\n",
    "    m, n = third_multiple_input[0], third_multiple_input[1]\n",
    "\n",
    "    apples = list(map(int, input().rstrip().split()))\n",
    "\n",
    "    oranges = list(map(int, input().rstrip().split()))\n",
    "\n",
    "    countApplesAndOranges(s, t, a, b, apples, oranges)"
   ]
  }
 ],
 "metadata": {
  "kernelspec": {
   "display_name": "Python 3 (ipykernel)",
   "language": "python",
   "name": "python3"
  },
  "language_info": {
   "codemirror_mode": {
    "name": "ipython",
    "version": 3
   },
   "file_extension": ".py",
   "mimetype": "text/x-python",
   "name": "python",
   "nbconvert_exporter": "python",
   "pygments_lexer": "ipython3",
   "version": "3.10.6"
  }
 },
 "nbformat": 4,
 "nbformat_minor": 5
}
