{
 "cells": [
  {
   "cell_type": "markdown",
   "id": "65831eb0",
   "metadata": {},
   "source": [
    "## This is my solution for [Queues: A Tale of Two Stacks](https://www.hackerrank.com/challenges/ctci-queue-using-two-stacks/problem?h_l=interview&isFullScreen=false&playlist_slugs%5B%5D%5B%5D=interview-preparation-kit&playlist_slugs%5B%5D%5B%5D=stacks-queues) challenge on [Hackerrank](https://www.hackerrank.com/)."
   ]
  },
  {
   "cell_type": "code",
   "execution_count": 1,
   "id": "c26471a8",
   "metadata": {},
   "outputs": [],
   "source": [
    "class MyQueue(object):\n",
    "    def __init__(self):\n",
    "        self.queue = []\n",
    "        self.length = 0\n",
    "\n",
    "    def peek(self):\n",
    "        if len(self.queue) != 0:\n",
    "            return self.queue[0]\n",
    "\n",
    "    def pop(self):\n",
    "        if len(self.queue) != 0:\n",
    "            self.queue.pop(0)\n",
    "            print(f'The current queue is: {self.queue}')\n",
    "\n",
    "    def put(self, value):\n",
    "        self.queue.append(value)\n",
    "        print(f'The current queue is: {self.queue}')"
   ]
  },
  {
   "cell_type": "code",
   "execution_count": 2,
   "id": "07fe6990",
   "metadata": {},
   "outputs": [
    {
     "name": "stdout",
     "output_type": "stream",
     "text": [
      "10\n",
      "1 42\n",
      "The current queue is: [42]\n",
      "2\n",
      "The current queue is: []\n",
      "1 14\n",
      "The current queue is: [14]\n",
      "3\n",
      "The front element in the queue is: 14\n",
      "1 28\n",
      "The current queue is: [14, 28]\n",
      "3\n",
      "The front element in the queue is: 14\n",
      "1 60\n",
      "The current queue is: [14, 28, 60]\n",
      "1 78\n",
      "The current queue is: [14, 28, 60, 78]\n",
      "2\n",
      "The current queue is: [28, 60, 78]\n",
      "2\n",
      "The current queue is: [60, 78]\n"
     ]
    }
   ],
   "source": [
    "if __name__ == '__main__':\n",
    "    queue = MyQueue()\n",
    "    t = int(input())\n",
    "    for line in range(t):\n",
    "        values = map(int, input().split())\n",
    "        values = list(values)\n",
    "        if values[0] == 1:\n",
    "            queue.put(values[1])\n",
    "        elif values[0] == 2:\n",
    "            queue.pop()\n",
    "        else:\n",
    "            print(f'The front element in the queue is: {queue.peek()}')"
   ]
  }
 ],
 "metadata": {
  "kernelspec": {
   "display_name": "Python 3 (ipykernel)",
   "language": "python",
   "name": "python3"
  },
  "language_info": {
   "codemirror_mode": {
    "name": "ipython",
    "version": 3
   },
   "file_extension": ".py",
   "mimetype": "text/x-python",
   "name": "python",
   "nbconvert_exporter": "python",
   "pygments_lexer": "ipython3",
   "version": "3.10.6"
  }
 },
 "nbformat": 4,
 "nbformat_minor": 5
}
