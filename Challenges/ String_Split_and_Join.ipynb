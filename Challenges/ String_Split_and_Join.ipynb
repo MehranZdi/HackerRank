{
 "cells": [
  {
   "cell_type": "markdown",
   "id": "36281b91",
   "metadata": {},
   "source": [
    "## This is my solution for  [String Split and Join](https://www.hackerrank.com/challenges/python-string-split-and-join/problem) challenge on [HackerRank](https://www.hackerrank.com/)."
   ]
  },
  {
   "cell_type": "markdown",
   "id": "76078515",
   "metadata": {},
   "source": [
    "### Lambda's miracle :)"
   ]
  },
  {
   "cell_type": "code",
   "execution_count": 2,
   "id": "33248329",
   "metadata": {},
   "outputs": [
    {
     "name": "stdout",
     "output_type": "stream",
     "text": [
      "This is a string.\n",
      "-------> This-is-a-string.\n"
     ]
    }
   ],
   "source": [
    "line = input()\n",
    "string_modifier = lambda line: line.replace(' ', '-')\n",
    "\n",
    "print('------->', string_modifier(line))"
   ]
  },
  {
   "cell_type": "markdown",
   "id": "cdd63335",
   "metadata": {},
   "source": [
    "### solution without lambda function: "
   ]
  },
  {
   "cell_type": "code",
   "execution_count": 3,
   "id": "8214baea",
   "metadata": {},
   "outputs": [
    {
     "name": "stdout",
     "output_type": "stream",
     "text": [
      "This is a string.\n",
      "-------> This-is-a-string.\n"
     ]
    }
   ],
   "source": [
    "def string_modifier(line):\n",
    "    return line.replace(' ', '-')\n",
    "    \n",
    "if __name__ == '__main__':\n",
    "    line = input()\n",
    "    result = string_modifier(line)\n",
    "    \n",
    "    print('------->', result)"
   ]
  }
 ],
 "metadata": {
  "kernelspec": {
   "display_name": "Python 3 (ipykernel)",
   "language": "python",
   "name": "python3"
  },
  "language_info": {
   "codemirror_mode": {
    "name": "ipython",
    "version": 3
   },
   "file_extension": ".py",
   "mimetype": "text/x-python",
   "name": "python",
   "nbconvert_exporter": "python",
   "pygments_lexer": "ipython3",
   "version": "3.9.7"
  }
 },
 "nbformat": 4,
 "nbformat_minor": 5
}
