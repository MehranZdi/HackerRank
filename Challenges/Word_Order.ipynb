{
 "cells": [
  {
   "cell_type": "markdown",
   "id": "4d2e08f3",
   "metadata": {},
   "source": [
    "## This is my solution for  [Word Order](https://www.hackerrank.com/challenges/word-order/problem) challenge on [HackerRank](https://www.hackerrank.com/)."
   ]
  },
  {
   "cell_type": "code",
   "execution_count": 1,
   "id": "69b72e70",
   "metadata": {},
   "outputs": [
    {
     "name": "stdout",
     "output_type": "stream",
     "text": [
      "4\n",
      "png\n",
      "jpeg\n",
      "png\n",
      "jpg\n",
      "3\n",
      "2 1 1\n"
     ]
    }
   ],
   "source": [
    "a = 0\n",
    "words = list(input() for i in range(int(input())))\n",
    "\n",
    "d = {word : words.count(word) for word in words}\n",
    "\n",
    "print('\\n ------> ',len(d))\n",
    "print(*d.values())"
   ]
  },
  {
   "cell_type": "code",
   "execution_count": null,
   "id": "71bd48b1",
   "metadata": {},
   "outputs": [],
   "source": []
  }
 ],
 "metadata": {
  "kernelspec": {
   "display_name": "Python 3 (ipykernel)",
   "language": "python",
   "name": "python3"
  },
  "language_info": {
   "codemirror_mode": {
    "name": "ipython",
    "version": 3
   },
   "file_extension": ".py",
   "mimetype": "text/x-python",
   "name": "python",
   "nbconvert_exporter": "python",
   "pygments_lexer": "ipython3",
   "version": "3.9.7"
  }
 },
 "nbformat": 4,
 "nbformat_minor": 5
}
