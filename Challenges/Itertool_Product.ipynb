{
 "cells": [
  {
   "cell_type": "markdown",
   "id": "4a6af7ec",
   "metadata": {},
   "source": [
    "## This is my solution for  [itertools.product()](https://www.hackerrank.com/challenges/itertools-product/problem) challenge on [HackerRank](https://www.hackerrank.com/)."
   ]
  },
  {
   "cell_type": "code",
   "execution_count": 1,
   "id": "ddf048d6",
   "metadata": {},
   "outputs": [
    {
     "name": "stdout",
     "output_type": "stream",
     "text": [
      "1 2\n",
      "3 4\n",
      "(1, 3) (1, 4) (2, 3) (2, 4)\n"
     ]
    }
   ],
   "source": [
    "from itertools import product\n",
    "\n",
    "A = sorted(list(map(int, input().split())))\n",
    "B = sorted(list(map(int, input().split())))\n",
    "\n",
    "# You can do two following lines in just a single line   ----->   print(list(product(A, B)))\n",
    "result = list(product(A, B))\n",
    "print(*result)"
   ]
  }
 ],
 "metadata": {
  "kernelspec": {
   "display_name": "Python 3 (ipykernel)",
   "language": "python",
   "name": "python3"
  },
  "language_info": {
   "codemirror_mode": {
    "name": "ipython",
    "version": 3
   },
   "file_extension": ".py",
   "mimetype": "text/x-python",
   "name": "python",
   "nbconvert_exporter": "python",
   "pygments_lexer": "ipython3",
   "version": "3.9.6"
  }
 },
 "nbformat": 4,
 "nbformat_minor": 5
}
