{
  "nbformat": 4,
  "nbformat_minor": 0,
  "metadata": {
    "colab": {
      "provenance": []
    },
    "kernelspec": {
      "name": "python3",
      "display_name": "Python 3"
    },
    "language_info": {
      "name": "python"
    }
  },
  "cells": [
    {
      "cell_type": "markdown",
      "source": [
        "## This is my solution for [Arrays](https://www.hackerrank.com/challenges/np-arrays/problem) challenge on [Hackerrank](https://www.hackerrank.com/)."
      ],
      "metadata": {
        "id": "9OsEFiFeY7T8"
      }
    },
    {
      "cell_type": "code",
      "execution_count": 1,
      "metadata": {
        "id": "tWH0bhXeYkuO"
      },
      "outputs": [],
      "source": [
        "import numpy"
      ]
    },
    {
      "cell_type": "code",
      "source": [
        "def arrays(arr):\n",
        "    return numpy.array(arr[::-1], float)"
      ],
      "metadata": {
        "id": "h0LO-WOuYtHT"
      },
      "execution_count": 2,
      "outputs": []
    },
    {
      "cell_type": "code",
      "source": [
        "if __name__ == '__main__':\n",
        "    arr = input().strip().split(' ')\n",
        "    result = arrays(arr)\n",
        "    print(result)"
      ],
      "metadata": {
        "colab": {
          "base_uri": "https://localhost:8080/"
        },
        "id": "vC9qDZAxYrRO",
        "outputId": "492ff3be-a8fa-4afa-dfaf-ed15cdf56877"
      },
      "execution_count": 3,
      "outputs": [
        {
          "output_type": "stream",
          "name": "stdout",
          "text": [
            "1 2 3 4 -8 -10\n",
            "[-10.  -8.   4.   3.   2.   1.]\n"
          ]
        }
      ]
    }
  ]
}