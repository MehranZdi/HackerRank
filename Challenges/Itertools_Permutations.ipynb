{
 "cells": [
  {
   "cell_type": "markdown",
   "id": "b08f98ce",
   "metadata": {},
   "source": [
    "## This is my solution for  [itertools.permutations()](https://www.hackerrank.com/challenges/itertools-permutations/problem) challenge on [HackerRank](https://www.hackerrank.com/)."
   ]
  },
  {
   "cell_type": "code",
   "execution_count": 1,
   "id": "fff9d282",
   "metadata": {},
   "outputs": [],
   "source": [
    "from itertools import permutations"
   ]
  },
  {
   "cell_type": "markdown",
   "id": "5bfd670c",
   "metadata": {},
   "source": [
    "### Pythonic way:"
   ]
  },
  {
   "cell_type": "code",
   "execution_count": 2,
   "id": "1617c414",
   "metadata": {},
   "outputs": [
    {
     "name": "stdout",
     "output_type": "stream",
     "text": [
      "hack 2\n",
      "AC\n",
      "AH\n",
      "AK\n",
      "CA\n",
      "CH\n",
      "CK\n",
      "HA\n",
      "HC\n",
      "HK\n",
      "KA\n",
      "KC\n",
      "KH\n"
     ]
    }
   ],
   "source": [
    "word, num = input().split()\n",
    "print('\\n'.join(sorted(''.join(tup) for tup in permutations(word.upper(), int(num)))))"
   ]
  },
  {
   "cell_type": "markdown",
   "id": "214475f9",
   "metadata": {},
   "source": [
    "### Hard way:"
   ]
  },
  {
   "cell_type": "code",
   "execution_count": 3,
   "id": "6677171d",
   "metadata": {},
   "outputs": [
    {
     "name": "stdout",
     "output_type": "stream",
     "text": [
      "hack 2\n",
      "AC\n",
      "AH\n",
      "AK\n",
      "CA\n",
      "CH\n",
      "CK\n",
      "HA\n",
      "HC\n",
      "HK\n",
      "KA\n",
      "KC\n",
      "KH\n"
     ]
    }
   ],
   "source": [
    "sorted_ = []\n",
    "word, num = input().split()\n",
    "result = list(permutations(word.upper(), int(num)))\n",
    "for tup in result:\n",
    "    string_ = ''.join(map(str, tup))\n",
    "    sorted_.append(string_)\n",
    "print(*sorted(sorted_, key=str), sep='\\n')"
   ]
  }
 ],
 "metadata": {
  "kernelspec": {
   "display_name": "Python 3 (ipykernel)",
   "language": "python",
   "name": "python3"
  },
  "language_info": {
   "codemirror_mode": {
    "name": "ipython",
    "version": 3
   },
   "file_extension": ".py",
   "mimetype": "text/x-python",
   "name": "python",
   "nbconvert_exporter": "python",
   "pygments_lexer": "ipython3",
   "version": "3.9.6"
  }
 },
 "nbformat": 4,
 "nbformat_minor": 5
}
