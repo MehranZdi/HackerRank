{
 "cells": [
  {
   "cell_type": "markdown",
   "id": "a24c695c",
   "metadata": {},
   "source": [
    "## This is my solution for [Decorators 2 - Name Directory](https://www.hackerrank.com/challenges/decorators-2-name-directory/problem) challenge on [Hackerrank](https://www.hackerrank.com/)."
   ]
  },
  {
   "cell_type": "code",
   "execution_count": 1,
   "id": "075e3b10",
   "metadata": {},
   "outputs": [],
   "source": [
    "def person_lister(func):\n",
    "    def inner(people):\n",
    "        sorted_people = sorted(people, key=lambda x: int(x[2]))\n",
    "        return list(map(lambda person: func(person), sorted_people))\n",
    "    return inner\n",
    "\n",
    "@person_lister\n",
    "def name_format(person):\n",
    "    return (\"Mr. \" if person[3] == 'M' else \"MS. \") + person[0] + ' ' + person[1]"
   ]
  },
  {
   "cell_type": "code",
   "execution_count": 2,
   "id": "dc3bea9f",
   "metadata": {},
   "outputs": [
    {
     "name": "stdout",
     "output_type": "stream",
     "text": [
      "3\n",
      "Mike Thomson 20 M\n",
      "Robert Bustle 32 M\n",
      "Andria Bustle 30 F\n",
      "The result is:\n",
      "Mr. Mike Thomson\n",
      "MS. Andria Bustle\n",
      "Mr. Robert Bustle\n"
     ]
    }
   ],
   "source": [
    "if __name__ == '__main__':\n",
    "    people = [input().split() for i in range(int(input()))]\n",
    "    print(\"The result is:\")\n",
    "    print(*name_format(people), sep='\\n')"
   ]
  }
 ],
 "metadata": {
  "kernelspec": {
   "display_name": "Python 3 (ipykernel)",
   "language": "python",
   "name": "python3"
  },
  "language_info": {
   "codemirror_mode": {
    "name": "ipython",
    "version": 3
   },
   "file_extension": ".py",
   "mimetype": "text/x-python",
   "name": "python",
   "nbconvert_exporter": "python",
   "pygments_lexer": "ipython3",
   "version": "3.10.6"
  }
 },
 "nbformat": 4,
 "nbformat_minor": 5
}
