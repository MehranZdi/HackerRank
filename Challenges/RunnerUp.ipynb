{
 "cells": [
  {
   "cell_type": "markdown",
   "id": "281e944b",
   "metadata": {},
   "source": [
    "## This is my solution for [Find the Runner-Up Score!](https://www.hackerrank.com/challenges/find-second-maximum-number-in-a-list/problem) challenge on [Hackerrank](https://www.hackerrank.com/)."
   ]
  },
  {
   "cell_type": "code",
   "execution_count": 1,
   "id": "adcb048e",
   "metadata": {},
   "outputs": [
    {
     "name": "stdout",
     "output_type": "stream",
     "text": [
      "5\n",
      "2 3 6 6 5\n",
      "The result is:\n",
      "5\n"
     ]
    }
   ],
   "source": [
    "if __name__ == '__main__':\n",
    "    n = input()\n",
    "    arr = list(map(int, input().split()))\n",
    "    print(\"The result is:\")\n",
    "    print(sorted(list(set(arr)))[-2])"
   ]
  }
 ],
 "metadata": {
  "kernelspec": {
   "display_name": "Python 3 (ipykernel)",
   "language": "python",
   "name": "python3"
  },
  "language_info": {
   "codemirror_mode": {
    "name": "ipython",
    "version": 3
   },
   "file_extension": ".py",
   "mimetype": "text/x-python",
   "name": "python",
   "nbconvert_exporter": "python",
   "pygments_lexer": "ipython3",
   "version": "3.10.6"
  }
 },
 "nbformat": 4,
 "nbformat_minor": 5
}
