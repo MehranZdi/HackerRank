{
 "cells": [
  {
   "cell_type": "markdown",
   "id": "92ff89fa",
   "metadata": {},
   "source": [
    "## This is my solution for [Words Score](https://www.hackerrank.com/challenges/words-score/problem?isFullScreen=false) challenge on [Hackerrank](https://www.hackerrank.com/)."
   ]
  },
  {
   "cell_type": "markdown",
   "id": "dcd3be16",
   "metadata": {},
   "source": [
    "### This solution is not the one that I've submitted on hackerrank, this is a cooler solution :)."
   ]
  },
  {
   "cell_type": "code",
   "execution_count": 1,
   "id": "db4d04a5",
   "metadata": {},
   "outputs": [],
   "source": [
    "def is_vowel(letter):\n",
    "    return letter in ['a', 'e', 'i', 'o', 'u', 'y']"
   ]
  },
  {
   "cell_type": "code",
   "execution_count": 2,
   "id": "716e64c0",
   "metadata": {},
   "outputs": [],
   "source": [
    "def score_words(words_list):\n",
    "    score_dict = dict()\n",
    "    \n",
    "    for word in words_list:\n",
    "        word_score = 0\n",
    "        num_vowel = 0\n",
    "    \n",
    "        for letter in word:\n",
    "            if is_vowel(letter):\n",
    "                num_vowel += 1\n",
    "        if (num_vowel % 2) == 0:\n",
    "            word_score += 2\n",
    "        else:\n",
    "            word_score += 1\n",
    "        score_dict[word] = word_score\n",
    "        \n",
    "    return score_dict"
   ]
  },
  {
   "cell_type": "code",
   "execution_count": 3,
   "id": "d00ce059",
   "metadata": {},
   "outputs": [
    {
     "name": "stdout",
     "output_type": "stream",
     "text": [
      "Enter the number of words: 3\n",
      "programming\n",
      "is\n",
      "awesome\n",
      "The final score is: 4\n",
      "In details:\n",
      "-----> The score of the word \"programming\" is: 1\n",
      "-----> The score of the word \"is\" is: 1\n",
      "-----> The score of the word \"awesome\" is: 2\n"
     ]
    }
   ],
   "source": [
    "if __name__ == '__main__':\n",
    "    \n",
    "    words = list()\n",
    "    for _ in range(int(input(\"Enter the number of words: \"))):\n",
    "        words.append(*input().split())\n",
    "    word_dict = score_words(words)\n",
    "    \n",
    "    print(f'The final score is: {sum(word_dict.values())}')\n",
    "    print(\"In details:\")\n",
    "    for item in word_dict:\n",
    "        print(f'-----> The score of the word \"{item}\" is: {word_dict[item]}')"
   ]
  }
 ],
 "metadata": {
  "kernelspec": {
   "display_name": "Python 3 (ipykernel)",
   "language": "python",
   "name": "python3"
  },
  "language_info": {
   "codemirror_mode": {
    "name": "ipython",
    "version": 3
   },
   "file_extension": ".py",
   "mimetype": "text/x-python",
   "name": "python",
   "nbconvert_exporter": "python",
   "pygments_lexer": "ipython3",
   "version": "3.10.6"
  }
 },
 "nbformat": 4,
 "nbformat_minor": 5
}
