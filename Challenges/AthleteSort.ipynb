{
 "cells": [
  {
   "cell_type": "markdown",
   "id": "ed9ebf24",
   "metadata": {},
   "source": [
    "## This is my solution for [Athlete Sort](https://www.hackerrank.com/challenges/python-sort-sort/problem) challenge on [Hackerrank](https://www.hackerrank.com/)."
   ]
  },
  {
   "cell_type": "code",
   "execution_count": 1,
   "id": "0ef23226",
   "metadata": {},
   "outputs": [],
   "source": [
    "def arr_sort(arr, k):\n",
    "    arr.sort(key=lambda x: x[k])\n",
    "    return arr"
   ]
  },
  {
   "cell_type": "code",
   "execution_count": 2,
   "id": "b5f55127",
   "metadata": {},
   "outputs": [
    {
     "name": "stdout",
     "output_type": "stream",
     "text": [
      "Enter the 'n' and 'm':5 3\n",
      "Enter the information of athlete 0: 10 2 5\n",
      "Enter the information of athlete 1: 7 1 0\n",
      "Enter the information of athlete 2: 9 9 9\n",
      "Enter the information of athlete 3: 1 23 12\n",
      "Enter the information of athlete 4: 6 5 9\n",
      "Enter the 'k':1\n",
      "\n",
      "-------------The result is:-------------\n",
      "\n",
      "7 1 0\n",
      "10 2 5\n",
      "6 5 9\n",
      "9 9 9\n",
      "1 23 12\n"
     ]
    }
   ],
   "source": [
    "if __name__ == '__main__':\n",
    "    first_multiple_input = input(\"Enter the 'n' and 'm':\").rstrip().split()\n",
    "\n",
    "    n = int(first_multiple_input[0])\n",
    "\n",
    "    m = int(first_multiple_input[1])\n",
    "\n",
    "    arr = []\n",
    "\n",
    "    for i in range(n):\n",
    "        arr.append(list(map(int, input(f\"Enter the information of athlete {i}: \").rstrip().split())))\n",
    "\n",
    "    k = int(input(\"Enter the 'k':\").strip())\n",
    "    sorted_arr = arr_sort(arr, k)\n",
    "    print('\\n-------------The result is:-------------\\n')\n",
    "    \n",
    "    for line in arr:\n",
    "        print(*line)"
   ]
  }
 ],
 "metadata": {
  "kernelspec": {
   "display_name": "Python 3 (ipykernel)",
   "language": "python",
   "name": "python3"
  },
  "language_info": {
   "codemirror_mode": {
    "name": "ipython",
    "version": 3
   },
   "file_extension": ".py",
   "mimetype": "text/x-python",
   "name": "python",
   "nbconvert_exporter": "python",
   "pygments_lexer": "ipython3",
   "version": "3.10.6"
  }
 },
 "nbformat": 4,
 "nbformat_minor": 5
}
