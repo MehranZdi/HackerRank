{
 "cells": [
  {
   "cell_type": "markdown",
   "id": "512c0507",
   "metadata": {},
   "source": [
    "## This is my solution for [Integers Come In All Sizes](https://www.hackerrank.com/challenges/python-integers-come-in-all-sizes/problem) challenge on [Hackerrank](https://www.hackerrank.com/)."
   ]
  },
  {
   "cell_type": "code",
   "execution_count": 1,
   "id": "fe79cec3",
   "metadata": {},
   "outputs": [],
   "source": [
    "def power(numbers):\n",
    "    return pow(*numbers[0:2]) + pow(*numbers[2:4])"
   ]
  },
  {
   "cell_type": "code",
   "execution_count": 2,
   "id": "42c6d9a2",
   "metadata": {},
   "outputs": [
    {
     "name": "stdout",
     "output_type": "stream",
     "text": [
      "9\n",
      "29\n",
      "7\n",
      "27\n",
      "The result is: \n",
      "4710194409608608369201743232\n"
     ]
    }
   ],
   "source": [
    "if __name__ == '__main__':\n",
    "    nums = [int(input()) for _ in range(4)]\n",
    "    result = power(nums)\n",
    "    print(f'The result is: \\n{result}')"
   ]
  },
  {
   "cell_type": "markdown",
   "id": "446b3392",
   "metadata": {},
   "source": [
    "## This is my solution for [Mod Divmod](https://www.hackerrank.com/challenges/python-mod-divmod/problem) challenge on [Hackerrank](https://www.hackerrank.com/)."
   ]
  },
  {
   "cell_type": "code",
   "execution_count": 3,
   "id": "5bc380da",
   "metadata": {},
   "outputs": [],
   "source": [
    "def print_calculations(a, b):\n",
    "    print(f'{a // b}\\n{a % b}\\n{divmod(a, b)}')"
   ]
  },
  {
   "cell_type": "code",
   "execution_count": 4,
   "id": "4c8ae16c",
   "metadata": {},
   "outputs": [
    {
     "name": "stdout",
     "output_type": "stream",
     "text": [
      "177\n",
      "10\n",
      "The result is:\n",
      "17\n",
      "7\n",
      "(17, 7)\n"
     ]
    }
   ],
   "source": [
    "if __name__ == '__main__':\n",
    "    nums = [int(input()) for _ in range(2)]\n",
    "    a, b = nums[0], nums[1]\n",
    "    print(\"The result is:\")\n",
    "    print_calculations(a, b)"
   ]
  },
  {
   "cell_type": "markdown",
   "id": "e2e46c19",
   "metadata": {},
   "source": [
    "## This is my solution for [Power - Mod Power](https://www.hackerrank.com/challenges/python-power-mod-power/problem) challenge on [Hackerrank](https://www.hackerrank.com/)."
   ]
  },
  {
   "cell_type": "code",
   "execution_count": 5,
   "id": "cfb64d6b",
   "metadata": {},
   "outputs": [],
   "source": [
    "def print_calculations(a, b, m):\n",
    "    print(f'{pow(a, b)}\\n{pow(a, b, m)}')"
   ]
  },
  {
   "cell_type": "code",
   "execution_count": 6,
   "id": "6536d0a1",
   "metadata": {},
   "outputs": [
    {
     "name": "stdout",
     "output_type": "stream",
     "text": [
      "3\n",
      "4\n",
      "5\n",
      "The result is:\n",
      "81\n",
      "1\n"
     ]
    }
   ],
   "source": [
    "if __name__ == '__main__':\n",
    "    nums = [int(input()) for _ in range(3)]\n",
    "    a, b, m = nums[0], nums[1], nums[2]\n",
    "    print(\"The result is:\")\n",
    "    print_calculations(a, b, m)"
   ]
  }
 ],
 "metadata": {
  "kernelspec": {
   "display_name": "Python 3 (ipykernel)",
   "language": "python",
   "name": "python3"
  },
  "language_info": {
   "codemirror_mode": {
    "name": "ipython",
    "version": 3
   },
   "file_extension": ".py",
   "mimetype": "text/x-python",
   "name": "python",
   "nbconvert_exporter": "python",
   "pygments_lexer": "ipython3",
   "version": "3.10.6"
  }
 },
 "nbformat": 4,
 "nbformat_minor": 5
}
