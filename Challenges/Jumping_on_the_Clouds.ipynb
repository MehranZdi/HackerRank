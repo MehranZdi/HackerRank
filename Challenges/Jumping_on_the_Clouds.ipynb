{
 "cells": [
  {
   "cell_type": "markdown",
   "id": "531594e1",
   "metadata": {},
   "source": [
    "## This is my solution for  [Jumping on the Clouds](https://www.hackerrank.com/challenges/jumping-on-the-clouds/problem?h_r=internal-search) challenge on [HackerRank](https://www.hackerrank.com/)."
   ]
  },
  {
   "cell_type": "code",
   "execution_count": 1,
   "id": "d0b42739",
   "metadata": {},
   "outputs": [],
   "source": [
    "def jumpingOnClouds(clouds):\n",
    "\n",
    "    n = len(clouds)\n",
    "    counter = 0\n",
    "    i = 0\n",
    "\n",
    "    while (i < (n-1)):\n",
    "\n",
    "        if (i + 2) != (n) and clouds[i + 2] == 0 :\n",
    "            counter += 1\n",
    "            i += 2\n",
    "        else:\n",
    "            counter += 1\n",
    "            i += 1\n",
    "    \n",
    "    return counter"
   ]
  },
  {
   "cell_type": "code",
   "execution_count": 2,
   "id": "e8153a92",
   "metadata": {},
   "outputs": [
    {
     "name": "stdout",
     "output_type": "stream",
     "text": [
      "6\n",
      "0 0 0 0 1 0\n",
      "-------> 3\n"
     ]
    }
   ],
   "source": [
    "if __name__ == '__main__':\n",
    "\n",
    "    n = int(input().strip())\n",
    "    clouds = list(map(int, input().rstrip().split()))\n",
    "\n",
    "    print('------->', jumpingOnClouds(clouds))\n",
    "    "
   ]
  }
 ],
 "metadata": {
  "kernelspec": {
   "display_name": "Python 3 (ipykernel)",
   "language": "python",
   "name": "python3"
  },
  "language_info": {
   "codemirror_mode": {
    "name": "ipython",
    "version": 3
   },
   "file_extension": ".py",
   "mimetype": "text/x-python",
   "name": "python",
   "nbconvert_exporter": "python",
   "pygments_lexer": "ipython3",
   "version": "3.9.7"
  }
 },
 "nbformat": 4,
 "nbformat_minor": 5
}
