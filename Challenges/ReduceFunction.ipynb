{
 "cells": [
  {
   "cell_type": "markdown",
   "id": "fe317cc1",
   "metadata": {},
   "source": [
    "## This is my solution for [Reduce Function](https://www.hackerrank.com/challenges/reduce-function/problem?isFullScreen=false) challenge on [Hackerrank](https://www.hackerrank.com/)."
   ]
  },
  {
   "cell_type": "markdown",
   "id": "737504bd",
   "metadata": {},
   "source": [
    "### To solve this challenge, you should be familiar with the [fractions](https://docs.python.org/3/library/fractions.html#module-fractions) module in python."
   ]
  },
  {
   "cell_type": "code",
   "execution_count": 1,
   "id": "6b3f4574",
   "metadata": {},
   "outputs": [],
   "source": [
    "from fractions import Fraction\n",
    "from functools import reduce"
   ]
  },
  {
   "cell_type": "code",
   "execution_count": 2,
   "id": "ee14fb08",
   "metadata": {},
   "outputs": [],
   "source": [
    "def product(fracs):\n",
    "    fraction = reduce(lambda x, y: x * y, fracs)\n",
    "    return fraction.numerator, fraction.denominator"
   ]
  },
  {
   "cell_type": "code",
   "execution_count": 3,
   "id": "57281838",
   "metadata": {},
   "outputs": [
    {
     "name": "stdout",
     "output_type": "stream",
     "text": [
      "3\n",
      "1 2\n",
      "3 4\n",
      "10 6\n",
      "The result is: 5 8\n"
     ]
    }
   ],
   "source": [
    "if __name__ == '__main__':\n",
    "    fractions = []\n",
    "    for _ in range(int(input())):\n",
    "        fractions.append(Fraction(*map(int, input().split())))\n",
    "    result = product(fractions)\n",
    "    print('The result is:', *result)"
   ]
  }
 ],
 "metadata": {
  "kernelspec": {
   "display_name": "Python 3 (ipykernel)",
   "language": "python",
   "name": "python3"
  },
  "language_info": {
   "codemirror_mode": {
    "name": "ipython",
    "version": 3
   },
   "file_extension": ".py",
   "mimetype": "text/x-python",
   "name": "python",
   "nbconvert_exporter": "python",
   "pygments_lexer": "ipython3",
   "version": "3.10.6"
  }
 },
 "nbformat": 4,
 "nbformat_minor": 5
}
