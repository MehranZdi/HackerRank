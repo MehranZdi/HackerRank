{
 "cells": [
  {
   "cell_type": "markdown",
   "id": "be0fa9e7",
   "metadata": {},
   "source": [
    "## This is my solution for [Default Arguments](https://www.hackerrank.com/challenges/default-arguments/problem?isFullScreen=false) challenge on [Hackerrank](https://www.hackerrank.com/)."
   ]
  },
  {
   "cell_type": "code",
   "execution_count": 1,
   "id": "caeba0d9",
   "metadata": {},
   "outputs": [],
   "source": [
    "class EvenStream(object):\n",
    "    def __init__(self):\n",
    "        self.current = 0\n",
    "\n",
    "    def get_next(self):\n",
    "        to_return = self.current\n",
    "        self.current += 2\n",
    "        return to_return\n",
    "\n",
    "\n",
    "class OddStream(object):\n",
    "    def __init__(self):\n",
    "        self.current = 1\n",
    "\n",
    "    def get_next(self):\n",
    "        to_return = self.current\n",
    "        self.current += 2\n",
    "        return to_return"
   ]
  },
  {
   "cell_type": "code",
   "execution_count": 2,
   "id": "8d716c94",
   "metadata": {},
   "outputs": [],
   "source": [
    "def define_stream(stream):    \n",
    "    if stream is None:\n",
    "        stream = EvenStream()\n",
    "    else:\n",
    "        stream = OddStream()\n",
    "    return stream\n",
    "\n",
    "\n",
    "def print_from_stream(n, stream=None):\n",
    "    stream = define_stream(stream)\n",
    "    for _ in range(n):\n",
    "        print(stream.get_next())"
   ]
  },
  {
   "cell_type": "code",
   "execution_count": 3,
   "id": "bcf0d50a",
   "metadata": {},
   "outputs": [
    {
     "name": "stdout",
     "output_type": "stream",
     "text": [
      "3\n",
      "odd 2\n",
      "even 3\n",
      "odd 5\n",
      "1\n",
      "3\n",
      "0\n",
      "2\n",
      "4\n",
      "1\n",
      "3\n",
      "5\n",
      "7\n",
      "9\n"
     ]
    }
   ],
   "source": [
    "if __name__ == '__main__':\n",
    "    queries = int(input())\n",
    "    query_list = list()\n",
    "    \n",
    "    for _ in range(queries):\n",
    "        stream_name, n = input().split()\n",
    "        n = int(n)\n",
    "        query = stream_name, n\n",
    "        query_list.append(query)\n",
    "\n",
    "    for item in query_list:\n",
    "        if item[0] == \"even\":\n",
    "            print_from_stream(item[1])\n",
    "        else:\n",
    "            print_from_stream(item[1], OddStream())"
   ]
  }
 ],
 "metadata": {
  "kernelspec": {
   "display_name": "Python 3 (ipykernel)",
   "language": "python",
   "name": "python3"
  },
  "language_info": {
   "codemirror_mode": {
    "name": "ipython",
    "version": 3
   },
   "file_extension": ".py",
   "mimetype": "text/x-python",
   "name": "python",
   "nbconvert_exporter": "python",
   "pygments_lexer": "ipython3",
   "version": "3.10.6"
  }
 },
 "nbformat": 4,
 "nbformat_minor": 5
}
