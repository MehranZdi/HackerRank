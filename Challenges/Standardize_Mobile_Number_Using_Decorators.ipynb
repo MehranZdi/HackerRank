{
 "cells": [
  {
   "cell_type": "markdown",
   "id": "61f55466",
   "metadata": {},
   "source": [
    "## This is my solution for [\"Standardize Mobile Number Using Decorators\"](https://www.hackerrank.com/challenges/standardize-mobile-number-using-decorators/problem) challenge on [HackerRank](https://www.hackerrank.com/).\n",
    "\n",
    "### for solving this challenge, you need some knowledge of Decorators in python. Following link can help you:\n",
    "### [Python Decorators](https://www.programiz.com/python-programming/decorator)\n",
    "\n"
   ]
  },
  {
   "cell_type": "code",
   "execution_count": 2,
   "id": "89b582e8",
   "metadata": {},
   "outputs": [],
   "source": [
    "def wrapper(f):\n",
    "    def fun(l):     \n",
    "        decorated_list = ['+91' + ' ' + p_num[-10:-5] + ' ' + p_num[-5:] for p_num in l]\n",
    "        f(decorated_list)\n",
    "        \n",
    "    return fun"
   ]
  },
  {
   "cell_type": "code",
   "execution_count": 4,
   "id": "82da5fb7",
   "metadata": {},
   "outputs": [
    {
     "name": "stdout",
     "output_type": "stream",
     "text": [
      "3\n",
      "07895462130\n",
      "919875641230\n",
      "9195969878\n",
      "+91 78954 62130\n",
      "+91 91959 69878\n",
      "+91 98756 41230\n"
     ]
    }
   ],
   "source": [
    "@wrapper\n",
    "def sort_phone(l):\n",
    "    print(*sorted(l), sep='\\n')\n",
    "\n",
    "if __name__ == '__main__':\n",
    "    l = [input() for _ in range(int(input()))]\n",
    "    sort_phone(l)"
   ]
  }
 ],
 "metadata": {
  "kernelspec": {
   "display_name": "Python 3 (ipykernel)",
   "language": "python",
   "name": "python3"
  },
  "language_info": {
   "codemirror_mode": {
    "name": "ipython",
    "version": 3
   },
   "file_extension": ".py",
   "mimetype": "text/x-python",
   "name": "python",
   "nbconvert_exporter": "python",
   "pygments_lexer": "ipython3",
   "version": "3.9.6"
  }
 },
 "nbformat": 4,
 "nbformat_minor": 5
}
