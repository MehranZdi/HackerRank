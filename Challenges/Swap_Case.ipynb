{
 "cells": [
  {
   "cell_type": "markdown",
   "id": "8c4399a2",
   "metadata": {},
   "source": [
    "## This is my solution for  [sWAP cASE](https://www.hackerrank.com/challenges/swap-case/problem) challenge on [HackerRank](https://www.hackerrank.com/)."
   ]
  },
  {
   "cell_type": "code",
   "execution_count": 1,
   "id": "95f4b865",
   "metadata": {},
   "outputs": [],
   "source": [
    "def swap_case(s):\n",
    "    \n",
    "    s1 = ''\n",
    "    for letter in s:\n",
    "        \n",
    "        if ord(letter) >= 65 and ord(letter) <= 90:\n",
    "            s1 = s1 + chr(ord(letter) + 32)\n",
    "      \n",
    "        elif ord(letter) >= 97 and ord(letter) <= 122:\n",
    "            s1 = s1 + chr(ord(letter) - 32)\n",
    "      \n",
    "        else:\n",
    "            s1 = s1 + letter\n",
    "    \n",
    "    return s1"
   ]
  },
  {
   "cell_type": "code",
   "execution_count": 2,
   "id": "589ec7aa",
   "metadata": {},
   "outputs": [
    {
     "name": "stdout",
     "output_type": "stream",
     "text": [
      "HackerRank.com presents \"Pythonist 3\".\n",
      "--------->  hACKERrANK.COM PRESENTS \"pYTHONIST 3\".\n"
     ]
    }
   ],
   "source": [
    "if __name__ == '__main__':\n",
    "    s = input()\n",
    "    result = swap_case(s)\n",
    "    print('---------> ',result)"
   ]
  }
 ],
 "metadata": {
  "kernelspec": {
   "display_name": "Python 3 (ipykernel)",
   "language": "python",
   "name": "python3"
  },
  "language_info": {
   "codemirror_mode": {
    "name": "ipython",
    "version": 3
   },
   "file_extension": ".py",
   "mimetype": "text/x-python",
   "name": "python",
   "nbconvert_exporter": "python",
   "pygments_lexer": "ipython3",
   "version": "3.9.7"
  }
 },
 "nbformat": 4,
 "nbformat_minor": 5
}
