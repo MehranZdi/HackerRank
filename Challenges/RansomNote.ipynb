{
 "cells": [
  {
   "cell_type": "markdown",
   "id": "93cc4cc6",
   "metadata": {},
   "source": [
    "## This is my solution for [Ransom Note](https://www.hackerrank.com/challenges/ctci-ransom-note/problem?h_l=interview&isFullScreen=false&playlist_slugs%5B%5D=interview-preparation-kit&playlist_slugs%5B%5D=dictionaries-hashmaps) challenge on [Hackerrank](https://www.hackerrank.com/)."
   ]
  },
  {
   "cell_type": "code",
   "execution_count": 1,
   "id": "829509de",
   "metadata": {},
   "outputs": [],
   "source": [
    "def checkMagazine(magazine, note):\n",
    "    checker = 0\n",
    "    for note_word in note:\n",
    "        for mag_word in magazine:\n",
    "            if note_word == mag_word:\n",
    "                checker += 1\n",
    "                magazine.remove(mag_word)\n",
    "    if checker == len(note):\n",
    "        print('Yes')\n",
    "    else:\n",
    "        print('No')"
   ]
  },
  {
   "cell_type": "code",
   "execution_count": 2,
   "id": "1ac0b86c",
   "metadata": {},
   "outputs": [
    {
     "name": "stdout",
     "output_type": "stream",
     "text": [
      "6 5\n",
      "Three times two is not four\n",
      "Two times two is four\n",
      "No\n"
     ]
    }
   ],
   "source": [
    "if __name__ == '__main__':\n",
    "    first_multiple_input = input().rstrip().split()\n",
    "\n",
    "    m = int(first_multiple_input[0])\n",
    "    n = int(first_multiple_input[1])\n",
    "\n",
    "    magazine = input().rstrip().split()\n",
    "    note = input().rstrip().split()\n",
    "\n",
    "    checkMagazine(magazine, note)"
   ]
  }
 ],
 "metadata": {
  "kernelspec": {
   "display_name": "Python 3 (ipykernel)",
   "language": "python",
   "name": "python3"
  },
  "language_info": {
   "codemirror_mode": {
    "name": "ipython",
    "version": 3
   },
   "file_extension": ".py",
   "mimetype": "text/x-python",
   "name": "python",
   "nbconvert_exporter": "python",
   "pygments_lexer": "ipython3",
   "version": "3.10.6"
  }
 },
 "nbformat": 4,
 "nbformat_minor": 5
}
