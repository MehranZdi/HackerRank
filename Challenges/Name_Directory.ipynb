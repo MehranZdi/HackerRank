{
 "cells": [
  {
   "cell_type": "markdown",
   "id": "ad2932fe",
   "metadata": {},
   "source": [
    "## This is my solution for  [Decorators 2 - Name Directory](https://www.hackerrank.com/challenges/decorators-2-name-directory/problem) challenge on [HackerRank](https://www.hackerrank.com/).\n",
    "\n",
    "### For solving this challenge, you have to know about Decorators in python. Following link can help you:\n",
    "### [Python Decorators](https://www.programiz.com/python-programming/decorator)"
   ]
  },
  {
   "cell_type": "code",
   "execution_count": 1,
   "id": "359d1358",
   "metadata": {},
   "outputs": [],
   "source": [
    "import operator\n",
    "\n",
    "def person_lister(f):\n",
    "    def inner(people):\n",
    "        sorted_people = sorted(people, key=operator.itemgetter(2))\n",
    "        f(sorted_people)\n",
    "    return inner"
   ]
  },
  {
   "cell_type": "code",
   "execution_count": 4,
   "id": "4b4a3d64",
   "metadata": {},
   "outputs": [
    {
     "name": "stdout",
     "output_type": "stream",
     "text": [
      "3\n",
      "Christian Bale 47 M\n",
      "Daniel Day-Lewis 64 M\n",
      "Amy Adams 47 F\n",
      "Mr Christian Bale\n",
      "Ms Amy Adams\n",
      "Mr Daniel Day-Lewis\n"
     ]
    }
   ],
   "source": [
    "@person_lister\n",
    "def name_format(people):\n",
    "  print(*(('{} {} {}').format( 'Mr' if person[3]=='M' else 'Ms', person[0], person[1]) for person in people), sep='\\n')\n",
    "\n",
    "if __name__ == '__main__':\n",
    "    people = [input().split() for i in range(int(input()))]\n",
    "    name_format(people)"
   ]
  }
 ],
 "metadata": {
  "kernelspec": {
   "display_name": "Python 3 (ipykernel)",
   "language": "python",
   "name": "python3"
  },
  "language_info": {
   "codemirror_mode": {
    "name": "ipython",
    "version": 3
   },
   "file_extension": ".py",
   "mimetype": "text/x-python",
   "name": "python",
   "nbconvert_exporter": "python",
   "pygments_lexer": "ipython3",
   "version": "3.9.6"
  }
 },
 "nbformat": 4,
 "nbformat_minor": 5
}
