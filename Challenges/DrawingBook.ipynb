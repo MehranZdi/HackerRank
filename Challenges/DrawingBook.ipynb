{
 "cells": [
  {
   "cell_type": "markdown",
   "id": "8e2890e1",
   "metadata": {},
   "source": [
    "## This is my solution for [Drawing Book](https://www.hackerrank.com/challenges/drawing-book/problem) challenge on [Hackerrank](https://www.hackerrank.com/)."
   ]
  },
  {
   "cell_type": "code",
   "execution_count": 1,
   "id": "49e5fc08",
   "metadata": {},
   "outputs": [],
   "source": [
    "def flip_count(n, t):\n",
    "    min_flip = min((t // 2), ((n // 2) - (t // 2)))\n",
    "    return min_flip"
   ]
  },
  {
   "cell_type": "code",
   "execution_count": 2,
   "id": "7735b007",
   "metadata": {},
   "outputs": [
    {
     "name": "stdout",
     "output_type": "stream",
     "text": [
      "Enter the number of pages: 10\n",
      "Enter the target page: 7\n",
      "Minimum pages to flip to get to page 7 is 2.\n"
     ]
    }
   ],
   "source": [
    "if __name__ == '__main__':\n",
    "    num_pages = int(input('Enter the number of pages: ').strip())\n",
    "    target_page = int(input('Enter the target page: ').strip())\n",
    "    result = flip_count(num_pages, target_page)\n",
    "    print(f'Minimum pages to flip to get to page {target_page} is {result}.')"
   ]
  }
 ],
 "metadata": {
  "kernelspec": {
   "display_name": "Python 3 (ipykernel)",
   "language": "python",
   "name": "python3"
  },
  "language_info": {
   "codemirror_mode": {
    "name": "ipython",
    "version": 3
   },
   "file_extension": ".py",
   "mimetype": "text/x-python",
   "name": "python",
   "nbconvert_exporter": "python",
   "pygments_lexer": "ipython3",
   "version": "3.10.6"
  }
 },
 "nbformat": 4,
 "nbformat_minor": 5
}
