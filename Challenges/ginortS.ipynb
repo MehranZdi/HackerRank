{
 "cells": [
  {
   "cell_type": "markdown",
   "id": "75cd3c40",
   "metadata": {},
   "source": [
    "## This is my solution for  [ginortS](https://www.hackerrank.com/challenges/ginorts/problem?isFullScreen=false) challenge on [HackerRank](https://www.hackerrank.com/)."
   ]
  },
  {
   "cell_type": "code",
   "execution_count": 1,
   "id": "f620de31",
   "metadata": {},
   "outputs": [],
   "source": [
    "def sorting(s):\n",
    "\n",
    "    upper = lower = even_nums = odd_nums = ''\n",
    "\n",
    "    for letter in s:\n",
    "        \n",
    "        if ord(letter) >= 65 and ord(letter) <= 90:\n",
    "            upper += letter\n",
    "        \n",
    "        elif ord(letter) >= 97 and ord(letter) <= 122:\n",
    "            lower += letter\n",
    "        \n",
    "        elif ord(letter) >= 48 and ord(letter) <= 57:\n",
    "            if (int(letter) % 2) == 0:\n",
    "                even_nums += letter\n",
    "        \n",
    "            else:\n",
    "                odd_nums += letter\n",
    "\n",
    "    upper = ''.join(sorted(upper))\n",
    "    lower = ''.join(sorted(lower))\n",
    "    nums = ''.join(sorted(odd_nums) + sorted(even_nums))\n",
    "\n",
    "    sorted_s = lower + upper + nums\n",
    "    \n",
    "    return sorted_s"
   ]
  },
  {
   "cell_type": "code",
   "execution_count": 2,
   "id": "042781c4",
   "metadata": {},
   "outputs": [
    {
     "name": "stdout",
     "output_type": "stream",
     "text": [
      "Sorting1234\n",
      "----------> ginortS1324\n"
     ]
    }
   ],
   "source": [
    "if __name__ == '__main__':\n",
    "    \n",
    "    s = input()\n",
    "    print('---------->', sorting(s))"
   ]
  }
 ],
 "metadata": {
  "kernelspec": {
   "display_name": "Python 3 (ipykernel)",
   "language": "python",
   "name": "python3"
  },
  "language_info": {
   "codemirror_mode": {
    "name": "ipython",
    "version": 3
   },
   "file_extension": ".py",
   "mimetype": "text/x-python",
   "name": "python",
   "nbconvert_exporter": "python",
   "pygments_lexer": "ipython3",
   "version": "3.9.7"
  }
 },
 "nbformat": 4,
 "nbformat_minor": 5
}
