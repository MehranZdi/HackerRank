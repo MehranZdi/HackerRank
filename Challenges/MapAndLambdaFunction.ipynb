{
 "cells": [
  {
   "cell_type": "markdown",
   "id": "f9b36737",
   "metadata": {},
   "source": [
    "## This is my solution for [Map and Lambda Function](https://www.hackerrank.com/challenges/map-and-lambda-expression/problem?isFullScreen=false) challenge on [Hackerrank](https://www.hackerrank.com/)."
   ]
  },
  {
   "cell_type": "code",
   "execution_count": 1,
   "id": "89fd805f",
   "metadata": {},
   "outputs": [],
   "source": [
    "cube = lambda x: x ** 3"
   ]
  },
  {
   "cell_type": "code",
   "execution_count": 2,
   "id": "a7dcabc7",
   "metadata": {},
   "outputs": [],
   "source": [
    "def fibonacci(n):\n",
    "    fibo_list = []\n",
    "    if n == 1:\n",
    "        fibo_list.append(0)\n",
    "    elif n >= 2:\n",
    "        fibo_list.extend([0, 1])\n",
    "        for i in range(n - 2):\n",
    "            fibo_list.append(fibo_list[i] + fibo_list[i+1])\n",
    "    return fibo_list"
   ]
  },
  {
   "cell_type": "code",
   "execution_count": 3,
   "id": "a151e6ea",
   "metadata": {},
   "outputs": [
    {
     "name": "stdout",
     "output_type": "stream",
     "text": [
      "Enter a number: 5\n",
      "The cubes of the first 5 fibonacci numbers is: [0, 1, 1, 8, 27]\n"
     ]
    }
   ],
   "source": [
    "if __name__ == '__main__':\n",
    "    n = int(input(\"Enter a number: \"))\n",
    "    fibo = fibonacci(n)\n",
    "    result = list(map(cube, fibo))\n",
    "    print(f'The cubes of the first {n} fibonacci numbers is: {result}')"
   ]
  }
 ],
 "metadata": {
  "kernelspec": {
   "display_name": "Python 3 (ipykernel)",
   "language": "python",
   "name": "python3"
  },
  "language_info": {
   "codemirror_mode": {
    "name": "ipython",
    "version": 3
   },
   "file_extension": ".py",
   "mimetype": "text/x-python",
   "name": "python",
   "nbconvert_exporter": "python",
   "pygments_lexer": "ipython3",
   "version": "3.10.6"
  }
 },
 "nbformat": 4,
 "nbformat_minor": 5
}
