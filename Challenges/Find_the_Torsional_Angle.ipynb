{
 "cells": [
  {
   "cell_type": "markdown",
   "id": "63ef7495",
   "metadata": {},
   "source": [
    "## This is a solution for [\"Class 2 - Find the Torsional Angle\"](https://www.hackerrank.com/challenges/class-2-find-the-torsional-angle/problem)  challenge on [HackerRank](https://www.hackerrank.com/)."
   ]
  },
  {
   "cell_type": "markdown",
   "id": "42332ad8",
   "metadata": {},
   "source": [
    "### For solving this challenge, you need to know some concepts in Linear Algebra that they are \"Cross product\" and \"Dot product\" of vectors in 3-dimensional coordinate system.\n",
    "### Following links can help you:\n",
    "### [1- Cross product](https://www.youtube.com/watch?v=eu6i7WJeinw)\n",
    "### [2- Dot product](https://www.youtube.com/watch?v=LyGKycYT2v0)"
   ]
  },
  {
   "cell_type": "code",
   "execution_count": 3,
   "id": "b4c00390",
   "metadata": {},
   "outputs": [],
   "source": [
    "import math\n",
    "\n",
    "class Points(object):\n",
    "    def __init__(self, x, y, z):\n",
    "        \n",
    "        self.x = x\n",
    "        self.y = y\n",
    "        self.z = z\n",
    "\n",
    "    def __sub__(self, no):\n",
    "        \n",
    "        vecs_sub_x = self.x - no.x\n",
    "        vecs_sub_y = self.y - no.y\n",
    "        vecs_sub_z = self.z - no.z\n",
    "        \n",
    "        sub_point = Points(vecs_sub_x, vecs_sub_y, vecs_sub_z) \n",
    "        \n",
    "        return sub_point\n",
    "        \n",
    "        \n",
    "    def dot(self, no):\n",
    "\n",
    "        i = self.x * no.x\n",
    "        j = self.y * no.y\n",
    "        k = self.z * no.z\n",
    "        \n",
    "        return (i + j + k)\n",
    "    \n",
    "    def cross(self, no):\n",
    "        \n",
    "        i = (self.y * no.z) - (self.z * no.y)\n",
    "        j = (self.z * no.x) - (self.x * no.z)\n",
    "        k = (self.x * no.y) - (self.y * no.x)\n",
    "       \n",
    "        cross_prod = Points(i, j, k)\n",
    "        \n",
    "        return cross_prod\n",
    "        \n",
    "    \n",
    "    def absolute(self):\n",
    "        \n",
    "        return pow((self.x ** 2 + self.y ** 2 + self.z ** 2), 0.5)"
   ]
  },
  {
   "cell_type": "code",
   "execution_count": 4,
   "id": "de67a6ee",
   "metadata": {},
   "outputs": [
    {
     "name": "stdout",
     "output_type": "stream",
     "text": [
      "0 4 5\n",
      "1 7 6 \n",
      "0 5 9 \n",
      "1 7 2\n",
      "8.19\n"
     ]
    }
   ],
   "source": [
    "if __name__ == '__main__':\n",
    "    points = list()\n",
    "    for i in range(4):\n",
    "        a = list(map(float, input().split()))\n",
    "        points.append(a)\n",
    "\n",
    "    a, b, c, d = Points(*points[0]), Points(*points[1]), Points(*points[2]), Points(*points[3])\n",
    "    x = (b - a).cross(c - b)\n",
    "    y = (c - b).cross(d - c)\n",
    "    angle = math.acos(x.dot(y) / (x.absolute() * y.absolute()))\n",
    "\n",
    "    print(\"%.2f\" % math.degrees(angle))"
   ]
  }
 ],
 "metadata": {
  "kernelspec": {
   "display_name": "Python 3 (ipykernel)",
   "language": "python",
   "name": "python3"
  },
  "language_info": {
   "codemirror_mode": {
    "name": "ipython",
    "version": 3
   },
   "file_extension": ".py",
   "mimetype": "text/x-python",
   "name": "python",
   "nbconvert_exporter": "python",
   "pygments_lexer": "ipython3",
   "version": "3.9.6"
  }
 },
 "nbformat": 4,
 "nbformat_minor": 5
}
